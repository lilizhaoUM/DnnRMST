{
 "cells": [
  {
   "cell_type": "code",
   "execution_count": 1,
   "metadata": {},
   "outputs": [
    {
     "name": "stderr",
     "output_type": "stream",
     "text": [
      "Using TensorFlow backend.\n"
     ]
    }
   ],
   "source": [
    "import numpy as np\n",
    "import pandas as pd\n",
    "from keras.models import Sequential\n",
    "from keras.layers import Dense\n",
    "import keras.optimizers\n",
    "from keras import activations\n",
    "from sklearn.preprocessing import MinMaxScaler"
   ]
  },
  {
   "cell_type": "code",
   "execution_count": 2,
   "metadata": {},
   "outputs": [],
   "source": [
    "def pseudomean_ipcw(time, delta, weight, tau):\n",
    "    '''\n",
    "    Usage: \n",
    "        Compute IPCW pseudo RMST at a single tau using Nelson-Aalen method; tau < the last event time\n",
    "    Input: \n",
    "        1. time: survival time, n*1 array \n",
    "        2. delta: censoring indicator, n*1 array \n",
    "        3. weight: weight matrix, n*ns array, where ns is the unique event time.\n",
    "                    if scalar is passed will create np.ones array\n",
    "        4. tau: landmark time, J*1 array, J is the length of landmark time.\n",
    "    Ouput: \n",
    "        pseudo value matrix, n*J array \n",
    "    '''\n",
    "    n = len(time)\n",
    "    s = np.unique(sorted([t*d for t,d in zip(t,d) if t*d > 0]))\n",
    "    ns = len(s) # the number of intervals\n",
    "    #check if weight is scalar, if true will create an np.ones array \n",
    "    w = np.ones((n,), dtype = int) if (np.isscalar(weight)) else weight\n",
    "    df = pd.concat([pd.DataFrame(data = {'time': t,'delta': d}), \n",
    "                    pd.DataFrame(data = w)], axis =1).sort_values(by = ['time', 'delta'], \n",
    "                                                                       ascending = (True, False))\n",
    "    w_idx = df.columns[2:]\n",
    "    D = np.transpose(np.array([(df['time'].values == si)*df['delta'].values for si in s], dtype = int))\n",
    "    Y = np.transpose(np.array([si <= df['time'].values for si in s], dtype = int))\n",
    "    '''\n",
    "      inx=max(which(s<=tau))\n",
    "      ttmp=c(0,s)\n",
    "      tt=c(ttmp[ttmp<=tau],tau) # add one extra column, may repeat, but diff=0\n",
    "      dt=diff(tt)\n",
    "    '''\n",
    "    inx = np.max(np.where(s <= tau))\n",
    "    tt= np.concatenate([[0], list(s[:inx+1]), [tau]]) # may add one term for tau, may repeat, but won't affect the area since diff=0\n",
    "    dt = np.diff(tt)\n",
    "    \n",
    "    Yw = Y* df[w_idx].values\n",
    "    Dw = D* df[w_idx].values\n",
    "    denominator = Yw.sum(axis = 0)\n",
    "    numerator = Dw.sum(axis = 0)\n",
    "    IPCW_CH = np.cumsum(numerator/denominator)\n",
    "    IPCW_surv = np.exp(-IPCW_CH)\n",
    "    surv = np.concatenate([IPCW_surv[:inx + 1], [IPCW_surv[inx]]])\n",
    "    IPCW_RM = np.sum(surv*dt)\n",
    "    \n",
    "\n",
    "    Denominator = np.array(list(denominator) * n).reshape(n, ns) - Yw\n",
    "    Numerator = np.array(list(numerator) * n).reshape(n, ns) -Dw\n",
    "    \n",
    "    IPCW_CHi = np.cumsum(Numerator/Denominator, axis =1)\n",
    "    #print(*IPCW_CHi, sep= '\\n')\n",
    "    IPCW_survi = np.exp(-IPCW_CHi)\n",
    "    M_dt = np.array(list(dt) *n).reshape(n, len(dt))\n",
    "    ## survi=cbind(IPCW_survi[,1:inx],IPCW_survi[,inx])\n",
    "    survi = np.column_stack((IPCW_survi[:,:inx +1 ], IPCW_survi[:,inx]))\n",
    "    IPCW_RMi = np.sum(survi*M_dt , axis = 1)\n",
    "\n",
    "    \n",
    "    df['pseudomean'] = n*IPCW_RM-(n-1)*IPCW_RMi\n",
    "    df = df.sort_index()\n",
    "    \n",
    "    return(df['pseudomean'])"
   ]
  },
  {
   "cell_type": "code",
   "execution_count": 3,
   "metadata": {},
   "outputs": [],
   "source": [
    "n = 200\n",
    "z = np.random.binomial(1, 0.5, n)\n",
    "c0 = 0.01\n",
    "times = np.random.exponential(1/(c0 *np.exp(1*z)), n)\n",
    "time_censor = np.random.exponential(1/(c0 *np.exp(1*z)), n)\n",
    "d = np.array([int(x) for x in times < time_censor])\n",
    "t = np.array([x if x <y else y for x,y in zip(times, time_censor)])"
   ]
  },
  {
   "cell_type": "code",
   "execution_count": 4,
   "metadata": {},
   "outputs": [],
   "source": [
    "# sim = pd.read_csv('../Data/Pseudo_surv_simulation.csv')"
   ]
  },
  {
   "cell_type": "code",
   "execution_count": 5,
   "metadata": {},
   "outputs": [],
   "source": [
    "# t, d, w  = sim['t'], sim['d'], sim[sim.columns[2:]]"
   ]
  },
  {
   "cell_type": "code",
   "execution_count": 6,
   "metadata": {},
   "outputs": [
    {
     "ename": "NameError",
     "evalue": "name 'w' is not defined",
     "output_type": "error",
     "traceback": [
      "\u001b[0;31m---------------------------------------------------------------------------\u001b[0m",
      "\u001b[0;31mNameError\u001b[0m                                 Traceback (most recent call last)",
      "\u001b[0;32m<ipython-input-6-42c36cfeb7fc>\u001b[0m in \u001b[0;36m<module>\u001b[0;34m\u001b[0m\n\u001b[1;32m      1\u001b[0m \u001b[0mtaus\u001b[0m \u001b[0;34m=\u001b[0m \u001b[0;34m[\u001b[0m\u001b[0;36m5\u001b[0m\u001b[0;34m,\u001b[0m\u001b[0;36m12\u001b[0m\u001b[0;34m,\u001b[0m\u001b[0;36m20\u001b[0m\u001b[0;34m,\u001b[0m\u001b[0;36m30\u001b[0m\u001b[0;34m,\u001b[0m\u001b[0;36m40\u001b[0m\u001b[0;34m,\u001b[0m\u001b[0;36m55\u001b[0m\u001b[0;34m,\u001b[0m\u001b[0;36m75\u001b[0m\u001b[0;34m,\u001b[0m\u001b[0;36m108\u001b[0m\u001b[0;34m]\u001b[0m\u001b[0;34m\u001b[0m\u001b[0;34m\u001b[0m\u001b[0m\n\u001b[1;32m      2\u001b[0m \u001b[0mntau\u001b[0m \u001b[0;34m=\u001b[0m \u001b[0mlen\u001b[0m\u001b[0;34m(\u001b[0m\u001b[0mtaus\u001b[0m\u001b[0;34m)\u001b[0m\u001b[0;34m\u001b[0m\u001b[0;34m\u001b[0m\u001b[0m\n\u001b[0;32m----> 3\u001b[0;31m \u001b[0mxx\u001b[0m \u001b[0;34m=\u001b[0m \u001b[0mnp\u001b[0m\u001b[0;34m.\u001b[0m\u001b[0mtranspose\u001b[0m\u001b[0;34m(\u001b[0m\u001b[0mnp\u001b[0m\u001b[0;34m.\u001b[0m\u001b[0marray\u001b[0m\u001b[0;34m(\u001b[0m\u001b[0;34m[\u001b[0m\u001b[0mpseudomean_ipcw\u001b[0m\u001b[0;34m(\u001b[0m\u001b[0mt\u001b[0m\u001b[0;34m,\u001b[0m \u001b[0md\u001b[0m\u001b[0;34m,\u001b[0m \u001b[0mw\u001b[0m\u001b[0;34m,\u001b[0m \u001b[0mtau\u001b[0m\u001b[0;34m)\u001b[0m \u001b[0;32mfor\u001b[0m \u001b[0mtau\u001b[0m \u001b[0;32min\u001b[0m \u001b[0mtaus\u001b[0m \u001b[0;34m]\u001b[0m\u001b[0;34m)\u001b[0m\u001b[0;34m)\u001b[0m\u001b[0;34m\u001b[0m\u001b[0;34m\u001b[0m\u001b[0m\n\u001b[0m",
      "\u001b[0;32m<ipython-input-6-42c36cfeb7fc>\u001b[0m in \u001b[0;36m<listcomp>\u001b[0;34m(.0)\u001b[0m\n\u001b[1;32m      1\u001b[0m \u001b[0mtaus\u001b[0m \u001b[0;34m=\u001b[0m \u001b[0;34m[\u001b[0m\u001b[0;36m5\u001b[0m\u001b[0;34m,\u001b[0m\u001b[0;36m12\u001b[0m\u001b[0;34m,\u001b[0m\u001b[0;36m20\u001b[0m\u001b[0;34m,\u001b[0m\u001b[0;36m30\u001b[0m\u001b[0;34m,\u001b[0m\u001b[0;36m40\u001b[0m\u001b[0;34m,\u001b[0m\u001b[0;36m55\u001b[0m\u001b[0;34m,\u001b[0m\u001b[0;36m75\u001b[0m\u001b[0;34m,\u001b[0m\u001b[0;36m108\u001b[0m\u001b[0;34m]\u001b[0m\u001b[0;34m\u001b[0m\u001b[0;34m\u001b[0m\u001b[0m\n\u001b[1;32m      2\u001b[0m \u001b[0mntau\u001b[0m \u001b[0;34m=\u001b[0m \u001b[0mlen\u001b[0m\u001b[0;34m(\u001b[0m\u001b[0mtaus\u001b[0m\u001b[0;34m)\u001b[0m\u001b[0;34m\u001b[0m\u001b[0;34m\u001b[0m\u001b[0m\n\u001b[0;32m----> 3\u001b[0;31m \u001b[0mxx\u001b[0m \u001b[0;34m=\u001b[0m \u001b[0mnp\u001b[0m\u001b[0;34m.\u001b[0m\u001b[0mtranspose\u001b[0m\u001b[0;34m(\u001b[0m\u001b[0mnp\u001b[0m\u001b[0;34m.\u001b[0m\u001b[0marray\u001b[0m\u001b[0;34m(\u001b[0m\u001b[0;34m[\u001b[0m\u001b[0mpseudomean_ipcw\u001b[0m\u001b[0;34m(\u001b[0m\u001b[0mt\u001b[0m\u001b[0;34m,\u001b[0m \u001b[0md\u001b[0m\u001b[0;34m,\u001b[0m \u001b[0mw\u001b[0m\u001b[0;34m,\u001b[0m \u001b[0mtau\u001b[0m\u001b[0;34m)\u001b[0m \u001b[0;32mfor\u001b[0m \u001b[0mtau\u001b[0m \u001b[0;32min\u001b[0m \u001b[0mtaus\u001b[0m \u001b[0;34m]\u001b[0m\u001b[0;34m)\u001b[0m\u001b[0;34m)\u001b[0m\u001b[0;34m\u001b[0m\u001b[0;34m\u001b[0m\u001b[0m\n\u001b[0m",
      "\u001b[0;31mNameError\u001b[0m: name 'w' is not defined"
     ]
    }
   ],
   "source": [
    "taus = [5,12,20,30,40,55,75,108]\n",
    "ntau = len(taus)\n",
    "xx = np.transpose(np.array([pseudomean_ipcw(t, d, w, tau) for tau in taus ]))"
   ]
  },
  {
   "cell_type": "code",
   "execution_count": null,
   "metadata": {},
   "outputs": [],
   "source": [
    "## xx normalization\n",
    "scaler = MinMaxScaler()\n",
    "scaler.fit(xx)\n",
    "xx_norm = scaler.transform(xx)"
   ]
  },
  {
   "cell_type": "code",
   "execution_count": null,
   "metadata": {},
   "outputs": [],
   "source": [
    "Z= np.reshape(z, (-1, 1))"
   ]
  },
  {
   "cell_type": "code",
   "execution_count": null,
   "metadata": {},
   "outputs": [],
   "source": [
    "model = Sequential()\n",
    "model.add(Dense(8, input_dim=Z.shape[1], activation= activations.relu))\n",
    "# model.add(Dropout(0.2))\n",
    "# model.add(Dense(4, activation = activations.relu))\n",
    "# model.add(Dropout(0.4))\n",
    "model.add(Dense(xx_norm.shape[1], activation = activations.sigmoid))\n",
    "opt = keras.optimizers.Adam(learning_rate=0.01)\n",
    "model.compile(loss='mse', optimizer= opt, metrics=['mae'])\n",
    "history = model.fit(Z, xx_norm, batch_size = 256, epochs = 1000, verbose = 0)"
   ]
  },
  {
   "cell_type": "code",
   "execution_count": null,
   "metadata": {},
   "outputs": [],
   "source": [
    "ypred_orig = model.predict(x= np.array([0,1]))"
   ]
  },
  {
   "cell_type": "code",
   "execution_count": null,
   "metadata": {},
   "outputs": [],
   "source": [
    "scaler.inverse_transform(ypred_orig)"
   ]
  }
 ],
 "metadata": {
  "kernelspec": {
   "display_name": "Python 3",
   "language": "python",
   "name": "python3"
  },
  "language_info": {
   "codemirror_mode": {
    "name": "ipython",
    "version": 3
   },
   "file_extension": ".py",
   "mimetype": "text/x-python",
   "name": "python",
   "nbconvert_exporter": "python",
   "pygments_lexer": "ipython3",
   "version": "3.6.9"
  }
 },
 "nbformat": 4,
 "nbformat_minor": 4
}
